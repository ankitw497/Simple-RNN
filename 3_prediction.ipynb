{
 "cells": [
  {
   "cell_type": "code",
   "execution_count": 1,
   "metadata": {},
   "outputs": [
    {
     "name": "stderr",
     "output_type": "stream",
     "text": [
      "/Users/ankitwahane/ankitw497 github/simple_rnn/.venv/lib/python3.9/site-packages/urllib3/__init__.py:35: NotOpenSSLWarning: urllib3 v2 only supports OpenSSL 1.1.1+, currently the 'ssl' module is compiled with 'LibreSSL 2.8.3'. See: https://github.com/urllib3/urllib3/issues/3020\n",
      "  warnings.warn(\n"
     ]
    }
   ],
   "source": [
    "# Step 1: Import Libraries and Load the Model\n",
    "import numpy as np\n",
    "import tensorflow as tf\n",
    "from tensorflow.keras.datasets import imdb\n",
    "from tensorflow.keras.preprocessing import sequence\n",
    "from tensorflow.keras.models import load_model"
   ]
  },
  {
   "cell_type": "code",
   "execution_count": 2,
   "metadata": {},
   "outputs": [],
   "source": [
    "\n",
    "# Load the IMDB dataset word index\n",
    "word_index = imdb.get_word_index()\n",
    "reverse_word_index = {value: key for key, value in word_index.items()}"
   ]
  },
  {
   "cell_type": "code",
   "execution_count": 3,
   "metadata": {},
   "outputs": [
    {
     "data": {
      "text/html": [
       "<pre style=\"white-space:pre;overflow-x:auto;line-height:normal;font-family:Menlo,'DejaVu Sans Mono',consolas,'Courier New',monospace\"><span style=\"font-weight: bold\">Model: \"sequential\"</span>\n",
       "</pre>\n"
      ],
      "text/plain": [
       "\u001b[1mModel: \"sequential\"\u001b[0m\n"
      ]
     },
     "metadata": {},
     "output_type": "display_data"
    },
    {
     "data": {
      "text/html": [
       "<pre style=\"white-space:pre;overflow-x:auto;line-height:normal;font-family:Menlo,'DejaVu Sans Mono',consolas,'Courier New',monospace\">┏━━━━━━━━━━━━━━━━━━━━━━━━━━━━━━━━━┳━━━━━━━━━━━━━━━━━━━━━━━━┳━━━━━━━━━━━━━━━┓\n",
       "┃<span style=\"font-weight: bold\"> Layer (type)                    </span>┃<span style=\"font-weight: bold\"> Output Shape           </span>┃<span style=\"font-weight: bold\">       Param # </span>┃\n",
       "┡━━━━━━━━━━━━━━━━━━━━━━━━━━━━━━━━━╇━━━━━━━━━━━━━━━━━━━━━━━━╇━━━━━━━━━━━━━━━┩\n",
       "│ embedding (<span style=\"color: #0087ff; text-decoration-color: #0087ff\">Embedding</span>)           │ (<span style=\"color: #00d7ff; text-decoration-color: #00d7ff\">None</span>, <span style=\"color: #00af00; text-decoration-color: #00af00\">500</span>, <span style=\"color: #00af00; text-decoration-color: #00af00\">128</span>)       │     <span style=\"color: #00af00; text-decoration-color: #00af00\">1,280,000</span> │\n",
       "├─────────────────────────────────┼────────────────────────┼───────────────┤\n",
       "│ simple_rnn (<span style=\"color: #0087ff; text-decoration-color: #0087ff\">SimpleRNN</span>)          │ (<span style=\"color: #00d7ff; text-decoration-color: #00d7ff\">None</span>, <span style=\"color: #00af00; text-decoration-color: #00af00\">128</span>)            │        <span style=\"color: #00af00; text-decoration-color: #00af00\">32,896</span> │\n",
       "├─────────────────────────────────┼────────────────────────┼───────────────┤\n",
       "│ dense (<span style=\"color: #0087ff; text-decoration-color: #0087ff\">Dense</span>)                   │ (<span style=\"color: #00d7ff; text-decoration-color: #00d7ff\">None</span>, <span style=\"color: #00af00; text-decoration-color: #00af00\">1</span>)              │           <span style=\"color: #00af00; text-decoration-color: #00af00\">129</span> │\n",
       "└─────────────────────────────────┴────────────────────────┴───────────────┘\n",
       "</pre>\n"
      ],
      "text/plain": [
       "┏━━━━━━━━━━━━━━━━━━━━━━━━━━━━━━━━━┳━━━━━━━━━━━━━━━━━━━━━━━━┳━━━━━━━━━━━━━━━┓\n",
       "┃\u001b[1m \u001b[0m\u001b[1mLayer (type)                   \u001b[0m\u001b[1m \u001b[0m┃\u001b[1m \u001b[0m\u001b[1mOutput Shape          \u001b[0m\u001b[1m \u001b[0m┃\u001b[1m \u001b[0m\u001b[1m      Param #\u001b[0m\u001b[1m \u001b[0m┃\n",
       "┡━━━━━━━━━━━━━━━━━━━━━━━━━━━━━━━━━╇━━━━━━━━━━━━━━━━━━━━━━━━╇━━━━━━━━━━━━━━━┩\n",
       "│ embedding (\u001b[38;5;33mEmbedding\u001b[0m)           │ (\u001b[38;5;45mNone\u001b[0m, \u001b[38;5;34m500\u001b[0m, \u001b[38;5;34m128\u001b[0m)       │     \u001b[38;5;34m1,280,000\u001b[0m │\n",
       "├─────────────────────────────────┼────────────────────────┼───────────────┤\n",
       "│ simple_rnn (\u001b[38;5;33mSimpleRNN\u001b[0m)          │ (\u001b[38;5;45mNone\u001b[0m, \u001b[38;5;34m128\u001b[0m)            │        \u001b[38;5;34m32,896\u001b[0m │\n",
       "├─────────────────────────────────┼────────────────────────┼───────────────┤\n",
       "│ dense (\u001b[38;5;33mDense\u001b[0m)                   │ (\u001b[38;5;45mNone\u001b[0m, \u001b[38;5;34m1\u001b[0m)              │           \u001b[38;5;34m129\u001b[0m │\n",
       "└─────────────────────────────────┴────────────────────────┴───────────────┘\n"
      ]
     },
     "metadata": {},
     "output_type": "display_data"
    },
    {
     "data": {
      "text/html": [
       "<pre style=\"white-space:pre;overflow-x:auto;line-height:normal;font-family:Menlo,'DejaVu Sans Mono',consolas,'Courier New',monospace\"><span style=\"font-weight: bold\"> Total params: </span><span style=\"color: #00af00; text-decoration-color: #00af00\">3,939,077</span> (15.03 MB)\n",
       "</pre>\n"
      ],
      "text/plain": [
       "\u001b[1m Total params: \u001b[0m\u001b[38;5;34m3,939,077\u001b[0m (15.03 MB)\n"
      ]
     },
     "metadata": {},
     "output_type": "display_data"
    },
    {
     "data": {
      "text/html": [
       "<pre style=\"white-space:pre;overflow-x:auto;line-height:normal;font-family:Menlo,'DejaVu Sans Mono',consolas,'Courier New',monospace\"><span style=\"font-weight: bold\"> Trainable params: </span><span style=\"color: #00af00; text-decoration-color: #00af00\">1,313,025</span> (5.01 MB)\n",
       "</pre>\n"
      ],
      "text/plain": [
       "\u001b[1m Trainable params: \u001b[0m\u001b[38;5;34m1,313,025\u001b[0m (5.01 MB)\n"
      ]
     },
     "metadata": {},
     "output_type": "display_data"
    },
    {
     "data": {
      "text/html": [
       "<pre style=\"white-space:pre;overflow-x:auto;line-height:normal;font-family:Menlo,'DejaVu Sans Mono',consolas,'Courier New',monospace\"><span style=\"font-weight: bold\"> Non-trainable params: </span><span style=\"color: #00af00; text-decoration-color: #00af00\">0</span> (0.00 B)\n",
       "</pre>\n"
      ],
      "text/plain": [
       "\u001b[1m Non-trainable params: \u001b[0m\u001b[38;5;34m0\u001b[0m (0.00 B)\n"
      ]
     },
     "metadata": {},
     "output_type": "display_data"
    },
    {
     "data": {
      "text/html": [
       "<pre style=\"white-space:pre;overflow-x:auto;line-height:normal;font-family:Menlo,'DejaVu Sans Mono',consolas,'Courier New',monospace\"><span style=\"font-weight: bold\"> Optimizer params: </span><span style=\"color: #00af00; text-decoration-color: #00af00\">2,626,052</span> (10.02 MB)\n",
       "</pre>\n"
      ],
      "text/plain": [
       "\u001b[1m Optimizer params: \u001b[0m\u001b[38;5;34m2,626,052\u001b[0m (10.02 MB)\n"
      ]
     },
     "metadata": {},
     "output_type": "display_data"
    }
   ],
   "source": [
    "# Load the pre-trained model with ReLU activation\n",
    "model = load_model('./simple_rnn_imdb_v2.keras')\n",
    "model.summary()"
   ]
  },
  {
   "cell_type": "code",
   "execution_count": 4,
   "metadata": {},
   "outputs": [
    {
     "data": {
      "text/plain": [
       "[array([[-0.00749975, -0.00185783, -0.06783731, ...,  0.01977451,\n",
       "         -0.04337993, -0.03724777],\n",
       "        [-0.0369133 , -0.0169975 , -0.00218477, ..., -0.03553983,\n",
       "         -0.01893613, -0.03510611],\n",
       "        [-0.04752062,  0.00604992,  0.02224308, ...,  0.03934346,\n",
       "         -0.04288856,  0.04520186],\n",
       "        ...,\n",
       "        [-0.00731313, -0.00788413, -0.03683933, ..., -0.00839673,\n",
       "         -0.02391302,  0.02146177],\n",
       "        [ 0.00353609, -0.05945041, -0.00527825, ...,  0.00256227,\n",
       "          0.02810125,  0.03227472],\n",
       "        [-0.05878643,  0.05313176, -0.01535892, ..., -0.01478247,\n",
       "          0.05629667, -0.03577801]], dtype=float32),\n",
       " array([[ 0.04478047, -0.04531201, -0.02073346, ...,  0.08273555,\n",
       "         -0.07098762,  0.03930189],\n",
       "        [-0.11445042, -0.00319982,  0.06899307, ...,  0.08164679,\n",
       "          0.16133061,  0.03332946],\n",
       "        [ 0.0174859 ,  0.07935379, -0.14062883, ...,  0.10722128,\n",
       "         -0.05248145, -0.00882673],\n",
       "        ...,\n",
       "        [ 0.00357954,  0.12983172,  0.01459158, ..., -0.07970845,\n",
       "         -0.0334374 ,  0.01782535],\n",
       "        [-0.14948398, -0.11189766,  0.01076812, ...,  0.14482385,\n",
       "          0.15833345, -0.03584392],\n",
       "        [ 0.1521105 ,  0.05199987,  0.14631578, ..., -0.09464914,\n",
       "          0.08376765,  0.18385398]], dtype=float32),\n",
       " array([[ 6.3104797e-03,  2.0026090e-03,  1.4747985e-01, ...,\n",
       "          1.9941193e-01, -1.1027697e-02,  3.0391607e-02],\n",
       "        [-4.6476465e-02,  2.8167678e-02, -8.5518892e-05, ...,\n",
       "          4.4634163e-02, -4.9252395e-02, -8.8984020e-02],\n",
       "        [-8.4306337e-02,  1.8575445e-01,  1.7327404e-01, ...,\n",
       "          1.0590690e-01, -7.3313035e-02, -3.6547706e-02],\n",
       "        ...,\n",
       "        [-4.9065363e-02,  2.2609439e-01, -7.7363908e-02, ...,\n",
       "         -1.3285916e-01,  4.5793384e-02, -6.4316653e-02],\n",
       "        [ 3.1872265e-02,  1.7405932e-01,  6.2215231e-02, ...,\n",
       "         -4.3588091e-02,  1.9235635e-02, -9.0654686e-02],\n",
       "        [ 1.1288701e-02,  1.4044654e-02,  7.1406372e-02, ...,\n",
       "          1.9270141e-02,  3.7027247e-02, -2.3611633e-02]], dtype=float32),\n",
       " array([ 6.2296893e-03,  1.0116707e-02,  8.4214279e-04, -1.2783150e-03,\n",
       "         1.0859573e-02,  1.2871867e-02,  2.0444106e-02, -1.0669527e-03,\n",
       "        -9.0002397e-04, -2.9746874e-03,  2.8721979e-04, -3.8581919e-03,\n",
       "         5.3890479e-05, -1.4906071e-02,  7.3529948e-03,  1.4757775e-02,\n",
       "        -2.3164537e-03,  1.2990489e-03,  8.4582949e-03,  3.2616674e-03,\n",
       "        -1.2075061e-02, -7.0370612e-04,  4.7461605e-03,  1.1930293e-02,\n",
       "         1.0863093e-02,  8.4305927e-04,  3.7150697e-03,  1.0604750e-02,\n",
       "         5.1086163e-03,  8.8893026e-03,  4.1231560e-03, -5.6474109e-04,\n",
       "         1.2220986e-02,  1.5837604e-02, -7.6804659e-03, -1.4876903e-03,\n",
       "         8.0986684e-03, -2.4231094e-05,  2.1249917e-03,  2.7412395e-03,\n",
       "        -5.5531901e-03, -2.0321663e-03,  9.4802845e-03,  1.0522719e-02,\n",
       "        -1.4133881e-03,  6.0281563e-03, -2.7921780e-03, -9.7421743e-03,\n",
       "         1.9659991e-03, -3.2105329e-03,  1.8426318e-02, -8.4519200e-03,\n",
       "        -1.5889497e-02,  7.4243797e-03,  4.8823068e-03,  2.6522640e-03,\n",
       "         1.9966745e-04,  3.8153820e-03, -8.5263038e-03,  5.0113606e-03,\n",
       "        -6.6740037e-04, -7.8493338e-03,  2.6163042e-03, -1.0593066e-02,\n",
       "         5.1229009e-03, -2.1289804e-03,  8.0544297e-03, -6.1735841e-03,\n",
       "         1.1971566e-03, -9.5068859e-03,  3.5391757e-03, -4.2676664e-04,\n",
       "        -1.7738203e-03, -4.3742693e-04, -3.0427400e-03, -1.0399892e-03,\n",
       "         1.7350700e-03, -9.7089505e-04, -5.7772249e-03,  7.7274414e-03,\n",
       "         9.5346663e-04,  1.2356153e-03,  1.0790020e-02, -5.5276584e-03,\n",
       "        -4.9929959e-03,  8.8214632e-03, -1.2124564e-02,  6.5252166e-03,\n",
       "         9.0851128e-04, -1.1938532e-03, -3.7619562e-03, -2.2558055e-03,\n",
       "         1.6566165e-03,  1.8924000e-03, -1.7587447e-03,  1.1807890e-02,\n",
       "         7.0458925e-03,  8.5402988e-03,  4.0640547e-03, -1.1944831e-03,\n",
       "         4.5193634e-03,  1.2043471e-03, -3.7425424e-03,  1.2133822e-02,\n",
       "         4.5705969e-03,  4.4204091e-04, -5.2231629e-03,  1.2364406e-02,\n",
       "         1.6899075e-02,  5.0344421e-03,  4.5960825e-03, -1.6246444e-03,\n",
       "         1.8449895e-03,  9.9629965e-03, -3.1645927e-03,  9.6497266e-03,\n",
       "         3.0142746e-03,  6.3095510e-04,  6.1681704e-03, -9.2703812e-03,\n",
       "         6.7514256e-03,  2.2640009e-03, -2.0852713e-03, -8.7133460e-03,\n",
       "        -5.3025475e-03,  1.0354006e-02,  6.9215796e-03,  1.1637142e-02],\n",
       "       dtype=float32),\n",
       " array([[-0.1869679 ],\n",
       "        [-0.11065233],\n",
       "        [ 0.04679465],\n",
       "        [ 0.21086103],\n",
       "        [-0.26724908],\n",
       "        [-0.2917698 ],\n",
       "        [-0.17931369],\n",
       "        [-0.03446369],\n",
       "        [ 0.2766682 ],\n",
       "        [ 0.05466004],\n",
       "        [ 0.26111528],\n",
       "        [ 0.08692756],\n",
       "        [ 0.21152052],\n",
       "        [ 0.19158344],\n",
       "        [ 0.00830109],\n",
       "        [-0.2862316 ],\n",
       "        [-0.03306036],\n",
       "        [ 0.18692115],\n",
       "        [-0.18331106],\n",
       "        [-0.07748657],\n",
       "        [-0.1329493 ],\n",
       "        [ 0.02786742],\n",
       "        [ 0.23407045],\n",
       "        [-0.25205112],\n",
       "        [-0.11819775],\n",
       "        [ 0.19286567],\n",
       "        [ 0.01474713],\n",
       "        [-0.23256448],\n",
       "        [-0.20214269],\n",
       "        [ 0.09573025],\n",
       "        [ 0.24153902],\n",
       "        [ 0.13576569],\n",
       "        [ 0.2573297 ],\n",
       "        [-0.2649218 ],\n",
       "        [-0.04744955],\n",
       "        [ 0.02960201],\n",
       "        [-0.2613234 ],\n",
       "        [ 0.16347978],\n",
       "        [ 0.29807222],\n",
       "        [-0.10899027],\n",
       "        [-0.11667158],\n",
       "        [ 0.29049435],\n",
       "        [-0.23285712],\n",
       "        [-0.21636839],\n",
       "        [ 0.1792191 ],\n",
       "        [ 0.19557069],\n",
       "        [ 0.22300066],\n",
       "        [ 0.14386667],\n",
       "        [ 0.23062357],\n",
       "        [ 0.0022426 ],\n",
       "        [-0.30037174],\n",
       "        [ 0.02561775],\n",
       "        [ 0.00499412],\n",
       "        [-0.20895474],\n",
       "        [-0.1259831 ],\n",
       "        [ 0.20331159],\n",
       "        [-0.06655201],\n",
       "        [ 0.24820608],\n",
       "        [ 0.08605209],\n",
       "        [-0.18857472],\n",
       "        [ 0.10942065],\n",
       "        [ 0.22776595],\n",
       "        [-0.0923895 ],\n",
       "        [ 0.25254837],\n",
       "        [-0.26218584],\n",
       "        [-0.19831288],\n",
       "        [-0.29343638],\n",
       "        [-0.21079433],\n",
       "        [-0.11233721],\n",
       "        [-0.13530236],\n",
       "        [ 0.20541894],\n",
       "        [-0.14551331],\n",
       "        [ 0.16694932],\n",
       "        [ 0.18687221],\n",
       "        [ 0.17651677],\n",
       "        [ 0.0049864 ],\n",
       "        [-0.0261424 ],\n",
       "        [ 0.13438737],\n",
       "        [ 0.05703393],\n",
       "        [-0.1117653 ],\n",
       "        [ 0.16431673],\n",
       "        [ 0.1569396 ],\n",
       "        [-0.19306375],\n",
       "        [ 0.20368832],\n",
       "        [ 0.12505902],\n",
       "        [-0.15821375],\n",
       "        [ 0.10838298],\n",
       "        [-0.07671068],\n",
       "        [ 0.18835862],\n",
       "        [ 0.19289123],\n",
       "        [ 0.15991686],\n",
       "        [ 0.30354849],\n",
       "        [ 0.16415049],\n",
       "        [ 0.23781544],\n",
       "        [ 0.00822067],\n",
       "        [-0.17378801],\n",
       "        [-0.17661358],\n",
       "        [-0.1504872 ],\n",
       "        [ 0.05144101],\n",
       "        [ 0.13401781],\n",
       "        [ 0.03878118],\n",
       "        [ 0.21002498],\n",
       "        [ 0.10569045],\n",
       "        [-0.22563468],\n",
       "        [ 0.08732082],\n",
       "        [ 0.3057997 ],\n",
       "        [-0.02278056],\n",
       "        [-0.19717951],\n",
       "        [-0.21459684],\n",
       "        [-0.06916146],\n",
       "        [ 0.00599171],\n",
       "        [ 0.10464935],\n",
       "        [ 0.25266334],\n",
       "        [-0.13491629],\n",
       "        [ 0.00591984],\n",
       "        [-0.16554248],\n",
       "        [ 0.00353093],\n",
       "        [-0.03213992],\n",
       "        [ 0.00975735],\n",
       "        [ 0.09976961],\n",
       "        [-0.16843623],\n",
       "        [ 0.28897774],\n",
       "        [ 0.27342215],\n",
       "        [-0.10529974],\n",
       "        [ 0.03209163],\n",
       "        [-0.11415514],\n",
       "        [ 0.19931786],\n",
       "        [-0.1756973 ]], dtype=float32),\n",
       " array([-0.00289397], dtype=float32)]"
      ]
     },
     "execution_count": 4,
     "metadata": {},
     "output_type": "execute_result"
    }
   ],
   "source": [
    "model.get_weights()"
   ]
  },
  {
   "cell_type": "code",
   "execution_count": 5,
   "metadata": {},
   "outputs": [],
   "source": [
    "# Step 2: Helper Functions\n",
    "# Function to decode reviews\n",
    "def decode_review(encoded_review):\n",
    "    return ' '.join([reverse_word_index.get(i - 3, '?') for i in encoded_review])\n",
    "\n",
    "# Function to preprocess user input\n",
    "def preprocess_text(text):\n",
    "    words = text.lower().split()\n",
    "    encoded_review = [word_index.get(word, 2) + 3 for word in words]\n",
    "    padded_review = sequence.pad_sequences([encoded_review], maxlen=500)\n",
    "    return padded_review"
   ]
  },
  {
   "cell_type": "code",
   "execution_count": 6,
   "metadata": {},
   "outputs": [],
   "source": [
    "### Prediction  function\n",
    "\n",
    "def predict_sentiment(review):\n",
    "    preprocessed_input=preprocess_text(review)\n",
    "\n",
    "    prediction=model.predict(preprocessed_input)\n",
    "\n",
    "    sentiment = 'Positive' if prediction[0][0] > 0.5 else 'Negative'\n",
    "    \n",
    "    return sentiment, prediction[0][0]"
   ]
  },
  {
   "cell_type": "code",
   "execution_count": 7,
   "metadata": {},
   "outputs": [
    {
     "name": "stdout",
     "output_type": "stream",
     "text": [
      "\u001b[1m1/1\u001b[0m \u001b[32m━━━━━━━━━━━━━━━━━━━━\u001b[0m\u001b[37m\u001b[0m \u001b[1m0s\u001b[0m 73ms/step\n",
      "Review: This movie was fantastic! The acting was great and the plot was thrilling.\n",
      "Sentiment: Positive\n",
      "Prediction Score: 0.6417030692100525\n"
     ]
    }
   ],
   "source": [
    "# Step 4: User Input and Prediction\n",
    "# Example review for prediction\n",
    "example_review = \"This movie was fantastic! The acting was great and the plot was thrilling.\"\n",
    "\n",
    "sentiment,score=predict_sentiment(example_review)\n",
    "\n",
    "print(f'Review: {example_review}')\n",
    "print(f'Sentiment: {sentiment}')\n",
    "print(f'Prediction Score: {score}')"
   ]
  },
  {
   "cell_type": "code",
   "execution_count": null,
   "metadata": {},
   "outputs": [],
   "source": []
  }
 ],
 "metadata": {
  "kernelspec": {
   "display_name": "Python 3",
   "language": "python",
   "name": "python3"
  },
  "language_info": {
   "codemirror_mode": {
    "name": "ipython",
    "version": 3
   },
   "file_extension": ".py",
   "mimetype": "text/x-python",
   "name": "python",
   "nbconvert_exporter": "python",
   "pygments_lexer": "ipython3",
   "version": "3.9.6"
  }
 },
 "nbformat": 4,
 "nbformat_minor": 2
}
