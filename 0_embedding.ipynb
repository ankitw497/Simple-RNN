{
 "cells": [
  {
   "cell_type": "code",
   "execution_count": null,
   "metadata": {},
   "outputs": [],
   "source": [
    "!pip install tensorflow==2.15.0"
   ]
  },
  {
   "cell_type": "code",
   "execution_count": 4,
   "metadata": {},
   "outputs": [
    {
     "name": "stdout",
     "output_type": "stream",
     "text": [
      "Collecting scikit-learn\n",
      "  Downloading scikit_learn-1.5.1-cp39-cp39-macosx_12_0_arm64.whl.metadata (12 kB)\n",
      "Requirement already satisfied: tensorboard in /Users/ankitwahane/ankitw497 github/simple_rnn/.venv/lib/python3.9/site-packages (2.15.2)\n",
      "Collecting matplotlib\n",
      "  Downloading matplotlib-3.9.1-cp39-cp39-macosx_11_0_arm64.whl.metadata (11 kB)\n",
      "Collecting streamlit\n",
      "  Downloading streamlit-1.36.0-py2.py3-none-any.whl.metadata (8.5 kB)\n",
      "Collecting scikeras\n",
      "  Downloading scikeras-0.13.0-py3-none-any.whl.metadata (3.1 kB)\n",
      "Requirement already satisfied: numpy>=1.19.5 in /Users/ankitwahane/ankitw497 github/simple_rnn/.venv/lib/python3.9/site-packages (from scikit-learn) (1.26.4)\n",
      "Collecting scipy>=1.6.0 (from scikit-learn)\n",
      "  Downloading scipy-1.13.1-cp39-cp39-macosx_12_0_arm64.whl.metadata (60 kB)\n",
      "\u001b[2K     \u001b[38;2;114;156;31m━━━━━━━━━━━━━━━━━━━━━━━━━━━━━━━━━━━━━━━\u001b[0m \u001b[32m60.6/60.6 kB\u001b[0m \u001b[31m309.0 kB/s\u001b[0m eta \u001b[36m0:00:00\u001b[0m1m677.8 kB/s\u001b[0m eta \u001b[36m0:00:01\u001b[0m\n",
      "\u001b[?25hCollecting joblib>=1.2.0 (from scikit-learn)\n",
      "  Downloading joblib-1.4.2-py3-none-any.whl.metadata (5.4 kB)\n",
      "Collecting threadpoolctl>=3.1.0 (from scikit-learn)\n",
      "  Downloading threadpoolctl-3.5.0-py3-none-any.whl.metadata (13 kB)\n",
      "Requirement already satisfied: absl-py>=0.4 in /Users/ankitwahane/ankitw497 github/simple_rnn/.venv/lib/python3.9/site-packages (from tensorboard) (2.1.0)\n",
      "Requirement already satisfied: grpcio>=1.48.2 in /Users/ankitwahane/ankitw497 github/simple_rnn/.venv/lib/python3.9/site-packages (from tensorboard) (1.65.1)\n",
      "Requirement already satisfied: google-auth<3,>=1.6.3 in /Users/ankitwahane/ankitw497 github/simple_rnn/.venv/lib/python3.9/site-packages (from tensorboard) (2.32.0)\n",
      "Requirement already satisfied: google-auth-oauthlib<2,>=0.5 in /Users/ankitwahane/ankitw497 github/simple_rnn/.venv/lib/python3.9/site-packages (from tensorboard) (1.2.1)\n",
      "Requirement already satisfied: markdown>=2.6.8 in /Users/ankitwahane/ankitw497 github/simple_rnn/.venv/lib/python3.9/site-packages (from tensorboard) (3.6)\n",
      "Requirement already satisfied: protobuf!=4.24.0,>=3.19.6 in /Users/ankitwahane/ankitw497 github/simple_rnn/.venv/lib/python3.9/site-packages (from tensorboard) (4.25.4)\n",
      "Requirement already satisfied: requests<3,>=2.21.0 in /Users/ankitwahane/ankitw497 github/simple_rnn/.venv/lib/python3.9/site-packages (from tensorboard) (2.32.3)\n",
      "Requirement already satisfied: setuptools>=41.0.0 in /Users/ankitwahane/ankitw497 github/simple_rnn/.venv/lib/python3.9/site-packages (from tensorboard) (58.0.4)\n",
      "Requirement already satisfied: six>1.9 in /Users/ankitwahane/ankitw497 github/simple_rnn/.venv/lib/python3.9/site-packages (from tensorboard) (1.16.0)\n",
      "Requirement already satisfied: tensorboard-data-server<0.8.0,>=0.7.0 in /Users/ankitwahane/ankitw497 github/simple_rnn/.venv/lib/python3.9/site-packages (from tensorboard) (0.7.2)\n",
      "Requirement already satisfied: werkzeug>=1.0.1 in /Users/ankitwahane/ankitw497 github/simple_rnn/.venv/lib/python3.9/site-packages (from tensorboard) (3.0.3)\n",
      "Collecting contourpy>=1.0.1 (from matplotlib)\n",
      "  Downloading contourpy-1.2.1-cp39-cp39-macosx_11_0_arm64.whl.metadata (5.8 kB)\n",
      "Collecting cycler>=0.10 (from matplotlib)\n",
      "  Downloading cycler-0.12.1-py3-none-any.whl.metadata (3.8 kB)\n",
      "Collecting fonttools>=4.22.0 (from matplotlib)\n",
      "  Downloading fonttools-4.53.1-cp39-cp39-macosx_11_0_arm64.whl.metadata (162 kB)\n",
      "\u001b[2K     \u001b[38;2;114;156;31m━━━━━━━━━━━━━━━━━━━━━━━━━━━━━━━━━━━━━\u001b[0m \u001b[32m162.6/162.6 kB\u001b[0m \u001b[31m839.4 kB/s\u001b[0m eta \u001b[36m0:00:00\u001b[0m[31m1.4 MB/s\u001b[0m eta \u001b[36m0:00:01\u001b[0m\n",
      "\u001b[?25hCollecting kiwisolver>=1.3.1 (from matplotlib)\n",
      "  Downloading kiwisolver-1.4.5-cp39-cp39-macosx_11_0_arm64.whl.metadata (6.4 kB)\n",
      "Requirement already satisfied: packaging>=20.0 in /Users/ankitwahane/ankitw497 github/simple_rnn/.venv/lib/python3.9/site-packages (from matplotlib) (24.1)\n",
      "Collecting pillow>=8 (from matplotlib)\n",
      "  Downloading pillow-10.4.0-cp39-cp39-macosx_11_0_arm64.whl.metadata (9.2 kB)\n",
      "Collecting pyparsing>=2.3.1 (from matplotlib)\n",
      "  Downloading pyparsing-3.1.2-py3-none-any.whl.metadata (5.1 kB)\n",
      "Requirement already satisfied: python-dateutil>=2.7 in /Users/ankitwahane/ankitw497 github/simple_rnn/.venv/lib/python3.9/site-packages (from matplotlib) (2.9.0.post0)\n",
      "Collecting importlib-resources>=3.2.0 (from matplotlib)\n",
      "  Using cached importlib_resources-6.4.0-py3-none-any.whl.metadata (3.9 kB)\n",
      "Collecting altair<6,>=4.0 (from streamlit)\n",
      "  Downloading altair-5.3.0-py3-none-any.whl.metadata (9.2 kB)\n",
      "Collecting blinker<2,>=1.0.0 (from streamlit)\n",
      "  Downloading blinker-1.8.2-py3-none-any.whl.metadata (1.6 kB)\n",
      "Requirement already satisfied: cachetools<6,>=4.0 in /Users/ankitwahane/ankitw497 github/simple_rnn/.venv/lib/python3.9/site-packages (from streamlit) (5.4.0)\n",
      "Collecting click<9,>=7.0 (from streamlit)\n",
      "  Using cached click-8.1.7-py3-none-any.whl.metadata (3.0 kB)\n",
      "Collecting pandas<3,>=1.3.0 (from streamlit)\n",
      "  Downloading pandas-2.2.2-cp39-cp39-macosx_11_0_arm64.whl.metadata (19 kB)\n",
      "Collecting pyarrow>=7.0 (from streamlit)\n",
      "  Downloading pyarrow-17.0.0-cp39-cp39-macosx_11_0_arm64.whl.metadata (3.3 kB)\n",
      "Collecting rich<14,>=10.14.0 (from streamlit)\n",
      "  Using cached rich-13.7.1-py3-none-any.whl.metadata (18 kB)\n",
      "Collecting tenacity<9,>=8.1.0 (from streamlit)\n",
      "  Using cached tenacity-8.5.0-py3-none-any.whl.metadata (1.2 kB)\n",
      "Collecting toml<2,>=0.10.1 (from streamlit)\n",
      "  Downloading toml-0.10.2-py2.py3-none-any.whl.metadata (7.1 kB)\n",
      "Requirement already satisfied: typing-extensions<5,>=4.3.0 in /Users/ankitwahane/ankitw497 github/simple_rnn/.venv/lib/python3.9/site-packages (from streamlit) (4.12.2)\n",
      "Collecting gitpython!=3.1.19,<4,>=3.0.7 (from streamlit)\n",
      "  Downloading GitPython-3.1.43-py3-none-any.whl.metadata (13 kB)\n",
      "Collecting pydeck<1,>=0.8.0b4 (from streamlit)\n",
      "  Downloading pydeck-0.9.1-py2.py3-none-any.whl.metadata (4.1 kB)\n",
      "Requirement already satisfied: tornado<7,>=6.0.3 in /Users/ankitwahane/ankitw497 github/simple_rnn/.venv/lib/python3.9/site-packages (from streamlit) (6.4.1)\n",
      "Collecting keras>=3.2.0 (from scikeras)\n",
      "  Downloading keras-3.4.1-py3-none-any.whl.metadata (5.8 kB)\n",
      "Collecting jinja2 (from altair<6,>=4.0->streamlit)\n",
      "  Using cached jinja2-3.1.4-py3-none-any.whl.metadata (2.6 kB)\n",
      "Collecting jsonschema>=3.0 (from altair<6,>=4.0->streamlit)\n",
      "  Downloading jsonschema-4.23.0-py3-none-any.whl.metadata (7.9 kB)\n",
      "Collecting toolz (from altair<6,>=4.0->streamlit)\n",
      "  Downloading toolz-0.12.1-py3-none-any.whl.metadata (5.1 kB)\n",
      "Collecting gitdb<5,>=4.0.1 (from gitpython!=3.1.19,<4,>=3.0.7->streamlit)\n",
      "  Downloading gitdb-4.0.11-py3-none-any.whl.metadata (1.2 kB)\n",
      "Requirement already satisfied: pyasn1-modules>=0.2.1 in /Users/ankitwahane/ankitw497 github/simple_rnn/.venv/lib/python3.9/site-packages (from google-auth<3,>=1.6.3->tensorboard) (0.4.0)\n",
      "Requirement already satisfied: rsa<5,>=3.1.4 in /Users/ankitwahane/ankitw497 github/simple_rnn/.venv/lib/python3.9/site-packages (from google-auth<3,>=1.6.3->tensorboard) (4.9)\n",
      "Requirement already satisfied: requests-oauthlib>=0.7.0 in /Users/ankitwahane/ankitw497 github/simple_rnn/.venv/lib/python3.9/site-packages (from google-auth-oauthlib<2,>=0.5->tensorboard) (2.0.0)\n",
      "Requirement already satisfied: zipp>=3.1.0 in /Users/ankitwahane/ankitw497 github/simple_rnn/.venv/lib/python3.9/site-packages (from importlib-resources>=3.2.0->matplotlib) (3.19.2)\n",
      "Collecting namex (from keras>=3.2.0->scikeras)\n",
      "  Downloading namex-0.0.8-py3-none-any.whl.metadata (246 bytes)\n",
      "Requirement already satisfied: h5py in /Users/ankitwahane/ankitw497 github/simple_rnn/.venv/lib/python3.9/site-packages (from keras>=3.2.0->scikeras) (3.11.0)\n",
      "Collecting optree (from keras>=3.2.0->scikeras)\n",
      "  Downloading optree-0.12.1-cp39-cp39-macosx_11_0_arm64.whl.metadata (47 kB)\n",
      "\u001b[2K     \u001b[38;2;114;156;31m━━━━━━━━━━━━━━━━━━━━━━━━━━━━━━━━━━━━━━━━\u001b[0m \u001b[32m47.8/47.8 kB\u001b[0m \u001b[31m2.1 MB/s\u001b[0m eta \u001b[36m0:00:00\u001b[0m\n",
      "\u001b[?25hRequirement already satisfied: ml-dtypes in /Users/ankitwahane/ankitw497 github/simple_rnn/.venv/lib/python3.9/site-packages (from keras>=3.2.0->scikeras) (0.2.0)\n",
      "Requirement already satisfied: importlib-metadata>=4.4 in /Users/ankitwahane/ankitw497 github/simple_rnn/.venv/lib/python3.9/site-packages (from markdown>=2.6.8->tensorboard) (8.2.0)\n",
      "Collecting pytz>=2020.1 (from pandas<3,>=1.3.0->streamlit)\n",
      "  Downloading pytz-2024.1-py2.py3-none-any.whl.metadata (22 kB)\n",
      "Collecting tzdata>=2022.7 (from pandas<3,>=1.3.0->streamlit)\n",
      "  Downloading tzdata-2024.1-py2.py3-none-any.whl.metadata (1.4 kB)\n",
      "Requirement already satisfied: charset-normalizer<4,>=2 in /Users/ankitwahane/ankitw497 github/simple_rnn/.venv/lib/python3.9/site-packages (from requests<3,>=2.21.0->tensorboard) (3.3.2)\n",
      "Requirement already satisfied: idna<4,>=2.5 in /Users/ankitwahane/ankitw497 github/simple_rnn/.venv/lib/python3.9/site-packages (from requests<3,>=2.21.0->tensorboard) (3.7)\n",
      "Requirement already satisfied: urllib3<3,>=1.21.1 in /Users/ankitwahane/ankitw497 github/simple_rnn/.venv/lib/python3.9/site-packages (from requests<3,>=2.21.0->tensorboard) (2.2.2)\n",
      "Requirement already satisfied: certifi>=2017.4.17 in /Users/ankitwahane/ankitw497 github/simple_rnn/.venv/lib/python3.9/site-packages (from requests<3,>=2.21.0->tensorboard) (2024.7.4)\n",
      "Collecting markdown-it-py>=2.2.0 (from rich<14,>=10.14.0->streamlit)\n",
      "  Using cached markdown_it_py-3.0.0-py3-none-any.whl.metadata (6.9 kB)\n",
      "Requirement already satisfied: pygments<3.0.0,>=2.13.0 in /Users/ankitwahane/ankitw497 github/simple_rnn/.venv/lib/python3.9/site-packages (from rich<14,>=10.14.0->streamlit) (2.18.0)\n",
      "Requirement already satisfied: MarkupSafe>=2.1.1 in /Users/ankitwahane/ankitw497 github/simple_rnn/.venv/lib/python3.9/site-packages (from werkzeug>=1.0.1->tensorboard) (2.1.5)\n",
      "Collecting smmap<6,>=3.0.1 (from gitdb<5,>=4.0.1->gitpython!=3.1.19,<4,>=3.0.7->streamlit)\n",
      "  Downloading smmap-5.0.1-py3-none-any.whl.metadata (4.3 kB)\n",
      "Collecting attrs>=22.2.0 (from jsonschema>=3.0->altair<6,>=4.0->streamlit)\n",
      "  Using cached attrs-23.2.0-py3-none-any.whl.metadata (9.5 kB)\n",
      "Collecting jsonschema-specifications>=2023.03.6 (from jsonschema>=3.0->altair<6,>=4.0->streamlit)\n",
      "  Downloading jsonschema_specifications-2023.12.1-py3-none-any.whl.metadata (3.0 kB)\n",
      "Collecting referencing>=0.28.4 (from jsonschema>=3.0->altair<6,>=4.0->streamlit)\n",
      "  Downloading referencing-0.35.1-py3-none-any.whl.metadata (2.8 kB)\n",
      "Collecting rpds-py>=0.7.1 (from jsonschema>=3.0->altair<6,>=4.0->streamlit)\n",
      "  Downloading rpds_py-0.19.1-cp39-cp39-macosx_11_0_arm64.whl.metadata (4.2 kB)\n",
      "Collecting mdurl~=0.1 (from markdown-it-py>=2.2.0->rich<14,>=10.14.0->streamlit)\n",
      "  Using cached mdurl-0.1.2-py3-none-any.whl.metadata (1.6 kB)\n",
      "Requirement already satisfied: pyasn1<0.7.0,>=0.4.6 in /Users/ankitwahane/ankitw497 github/simple_rnn/.venv/lib/python3.9/site-packages (from pyasn1-modules>=0.2.1->google-auth<3,>=1.6.3->tensorboard) (0.6.0)\n",
      "Requirement already satisfied: oauthlib>=3.0.0 in /Users/ankitwahane/ankitw497 github/simple_rnn/.venv/lib/python3.9/site-packages (from requests-oauthlib>=0.7.0->google-auth-oauthlib<2,>=0.5->tensorboard) (3.2.2)\n",
      "Downloading scikit_learn-1.5.1-cp39-cp39-macosx_12_0_arm64.whl (11.0 MB)\n",
      "\u001b[2K   \u001b[38;2;114;156;31m━━━━━━━━━━━━━━━━━━━━━━━━━━━━━━━━━━━━━━━━\u001b[0m \u001b[32m11.0/11.0 MB\u001b[0m \u001b[31m17.7 MB/s\u001b[0m eta \u001b[36m0:00:00\u001b[0mm eta \u001b[36m0:00:01\u001b[0m0:01\u001b[0m01\u001b[0m\n",
      "\u001b[?25hDownloading matplotlib-3.9.1-cp39-cp39-macosx_11_0_arm64.whl (7.8 MB)\n",
      "\u001b[2K   \u001b[38;2;114;156;31m━━━━━━━━━━━━━━━━━━━━━━━━━━━━━━━━━━━━━━━━\u001b[0m \u001b[32m7.8/7.8 MB\u001b[0m \u001b[31m17.7 MB/s\u001b[0m eta \u001b[36m0:00:00\u001b[0mm eta \u001b[36m0:00:01\u001b[0m[36m0:00:01\u001b[0m\n",
      "\u001b[?25hDownloading streamlit-1.36.0-py2.py3-none-any.whl (8.6 MB)\n",
      "\u001b[2K   \u001b[38;2;114;156;31m━━━━━━━━━━━━━━━━━━━━━━━━━━━━━━━━━━━━━━━━\u001b[0m \u001b[32m8.6/8.6 MB\u001b[0m \u001b[31m19.8 MB/s\u001b[0m eta \u001b[36m0:00:00\u001b[0m[36m0:00:01\u001b[0mm eta \u001b[36m0:00:01\u001b[0m\n",
      "\u001b[?25hDownloading scikeras-0.13.0-py3-none-any.whl (26 kB)\n",
      "Downloading altair-5.3.0-py3-none-any.whl (857 kB)\n",
      "\u001b[2K   \u001b[38;2;114;156;31m━━━━━━━━━━━━━━━━━━━━━━━━━━━━━━━━━━━━━━━━\u001b[0m \u001b[32m857.8/857.8 kB\u001b[0m \u001b[31m23.6 MB/s\u001b[0m eta \u001b[36m0:00:00\u001b[0mm eta \u001b[36m0:00:01\u001b[0m\n",
      "\u001b[?25hDownloading blinker-1.8.2-py3-none-any.whl (9.5 kB)\n",
      "Using cached click-8.1.7-py3-none-any.whl (97 kB)\n",
      "Downloading contourpy-1.2.1-cp39-cp39-macosx_11_0_arm64.whl (244 kB)\n",
      "\u001b[2K   \u001b[38;2;114;156;31m━━━━━━━━━━━━━━━━━━━━━━━━━━━━━━━━━━━━━━━━\u001b[0m \u001b[32m245.0/245.0 kB\u001b[0m \u001b[31m14.4 MB/s\u001b[0m eta \u001b[36m0:00:00\u001b[0m\n",
      "\u001b[?25hDownloading cycler-0.12.1-py3-none-any.whl (8.3 kB)\n",
      "Downloading fonttools-4.53.1-cp39-cp39-macosx_11_0_arm64.whl (2.2 MB)\n",
      "\u001b[2K   \u001b[38;2;114;156;31m━━━━━━━━━━━━━━━━━━━━━━━━━━━━━━━━━━━━━━━━\u001b[0m \u001b[32m2.2/2.2 MB\u001b[0m \u001b[31m26.0 MB/s\u001b[0m eta \u001b[36m0:00:00\u001b[0m[36m0:00:01\u001b[0m[36m0:00:01\u001b[0m\n",
      "\u001b[?25hDownloading GitPython-3.1.43-py3-none-any.whl (207 kB)\n",
      "\u001b[2K   \u001b[38;2;114;156;31m━━━━━━━━━━━━━━━━━━━━━━━━━━━━━━━━━━━━━━━━\u001b[0m \u001b[32m207.3/207.3 kB\u001b[0m \u001b[31m13.3 MB/s\u001b[0m eta \u001b[36m0:00:00\u001b[0m\n",
      "\u001b[?25hUsing cached importlib_resources-6.4.0-py3-none-any.whl (38 kB)\n",
      "Downloading joblib-1.4.2-py3-none-any.whl (301 kB)\n",
      "\u001b[2K   \u001b[38;2;114;156;31m━━━━━━━━━━━━━━━━━━━━━━━━━━━━━━━━━━━━━━━━\u001b[0m \u001b[32m301.8/301.8 kB\u001b[0m \u001b[31m17.9 MB/s\u001b[0m eta \u001b[36m0:00:00\u001b[0m\n",
      "\u001b[?25hDownloading keras-3.4.1-py3-none-any.whl (1.1 MB)\n",
      "\u001b[2K   \u001b[38;2;114;156;31m━━━━━━━━━━━━━━━━━━━━━━━━━━━━━━━━━━━━━━━━\u001b[0m \u001b[32m1.1/1.1 MB\u001b[0m \u001b[31m26.9 MB/s\u001b[0m eta \u001b[36m0:00:00\u001b[0m31m34.2 MB/s\u001b[0m eta \u001b[36m0:00:01\u001b[0m\n",
      "\u001b[?25hDownloading kiwisolver-1.4.5-cp39-cp39-macosx_11_0_arm64.whl (66 kB)\n",
      "\u001b[2K   \u001b[38;2;114;156;31m━━━━━━━━━━━━━━━━━━━━━━━━━━━━━━━━━━━━━━━━\u001b[0m \u001b[32m66.2/66.2 kB\u001b[0m \u001b[31m5.4 MB/s\u001b[0m eta \u001b[36m0:00:00\u001b[0m\n",
      "\u001b[?25hDownloading pandas-2.2.2-cp39-cp39-macosx_11_0_arm64.whl (11.3 MB)\n",
      "\u001b[2K   \u001b[38;2;114;156;31m━━━━━━━━━━━━━━━━━━━━━━━━━━━━━━━━━━━━━━━━\u001b[0m \u001b[32m11.3/11.3 MB\u001b[0m \u001b[31m20.7 MB/s\u001b[0m eta \u001b[36m0:00:00\u001b[0mm eta \u001b[36m0:00:01\u001b[0m0:01\u001b[0m01\u001b[0m\n",
      "\u001b[?25hDownloading pillow-10.4.0-cp39-cp39-macosx_11_0_arm64.whl (3.4 MB)\n",
      "\u001b[2K   \u001b[38;2;114;156;31m━━━━━━━━━━━━━━━━━━━━━━━━━━━━━━━━━━━━━━━━\u001b[0m \u001b[32m3.4/3.4 MB\u001b[0m \u001b[31m28.5 MB/s\u001b[0m eta \u001b[36m0:00:00\u001b[0mm eta \u001b[36m0:00:01\u001b[0m0:01\u001b[0m\n",
      "\u001b[?25hDownloading pyarrow-17.0.0-cp39-cp39-macosx_11_0_arm64.whl (27.2 MB)\n",
      "\u001b[2K   \u001b[38;2;114;156;31m━━━━━━━━━━━━━━━━━━━━━━━━━━━━━━━━━━━━━━━━\u001b[0m \u001b[32m27.2/27.2 MB\u001b[0m \u001b[31m25.6 MB/s\u001b[0m eta \u001b[36m0:00:00\u001b[0m[36m0:00:01\u001b[0mm eta \u001b[36m0:00:01\u001b[0m\n",
      "\u001b[?25hDownloading pydeck-0.9.1-py2.py3-none-any.whl (6.9 MB)\n",
      "\u001b[2K   \u001b[38;2;114;156;31m━━━━━━━━━━━━━━━━━━━━━━━━━━━━━━━━━━━━━━━━\u001b[0m \u001b[32m6.9/6.9 MB\u001b[0m \u001b[31m26.6 MB/s\u001b[0m eta \u001b[36m0:00:00\u001b[0m31m27.5 MB/s\u001b[0m eta \u001b[36m0:00:01\u001b[0m\n",
      "\u001b[?25hDownloading pyparsing-3.1.2-py3-none-any.whl (103 kB)\n",
      "\u001b[2K   \u001b[38;2;114;156;31m━━━━━━━━━━━━━━━━━━━━━━━━━━━━━━━━━━━━━━━━\u001b[0m \u001b[32m103.2/103.2 kB\u001b[0m \u001b[31m10.2 MB/s\u001b[0m eta \u001b[36m0:00:00\u001b[0m\n",
      "\u001b[?25hUsing cached rich-13.7.1-py3-none-any.whl (240 kB)\n",
      "Downloading scipy-1.13.1-cp39-cp39-macosx_12_0_arm64.whl (30.3 MB)\n",
      "\u001b[2K   \u001b[38;2;114;156;31m━━━━━━━━━━━━━━━━━━━━━━━━━━━━━━━━━━━━━━━━\u001b[0m \u001b[32m30.3/30.3 MB\u001b[0m \u001b[31m24.1 MB/s\u001b[0m eta \u001b[36m0:00:00\u001b[0mm eta \u001b[36m0:00:01\u001b[0m[36m0:00:01\u001b[0m\n",
      "\u001b[?25hUsing cached tenacity-8.5.0-py3-none-any.whl (28 kB)\n",
      "Downloading threadpoolctl-3.5.0-py3-none-any.whl (18 kB)\n",
      "Downloading toml-0.10.2-py2.py3-none-any.whl (16 kB)\n",
      "Downloading gitdb-4.0.11-py3-none-any.whl (62 kB)\n",
      "\u001b[2K   \u001b[38;2;114;156;31m━━━━━━━━━━━━━━━━━━━━━━━━━━━━━━━━━━━━━━━━\u001b[0m \u001b[32m62.7/62.7 kB\u001b[0m \u001b[31m4.6 MB/s\u001b[0m eta \u001b[36m0:00:00\u001b[0m\n",
      "\u001b[?25hUsing cached jinja2-3.1.4-py3-none-any.whl (133 kB)\n",
      "Downloading jsonschema-4.23.0-py3-none-any.whl (88 kB)\n",
      "\u001b[2K   \u001b[38;2;114;156;31m━━━━━━━━━━━━━━━━━━━━━━━━━━━━━━━━━━━━━━━━\u001b[0m \u001b[32m88.5/88.5 kB\u001b[0m \u001b[31m6.8 MB/s\u001b[0m eta \u001b[36m0:00:00\u001b[0m\n",
      "\u001b[?25hUsing cached markdown_it_py-3.0.0-py3-none-any.whl (87 kB)\n",
      "Downloading pytz-2024.1-py2.py3-none-any.whl (505 kB)\n",
      "\u001b[2K   \u001b[38;2;114;156;31m━━━━━━━━━━━━━━━━━━━━━━━━━━━━━━━━━━━━━━━━\u001b[0m \u001b[32m505.5/505.5 kB\u001b[0m \u001b[31m25.6 MB/s\u001b[0m eta \u001b[36m0:00:00\u001b[0m\n",
      "\u001b[?25hDownloading tzdata-2024.1-py2.py3-none-any.whl (345 kB)\n",
      "\u001b[2K   \u001b[38;2;114;156;31m━━━━━━━━━━━━━━━━━━━━━━━━━━━━━━━━━━━━━━━━\u001b[0m \u001b[32m345.4/345.4 kB\u001b[0m \u001b[31m19.7 MB/s\u001b[0m eta \u001b[36m0:00:00\u001b[0m\n",
      "\u001b[?25hDownloading namex-0.0.8-py3-none-any.whl (5.8 kB)\n",
      "Downloading optree-0.12.1-cp39-cp39-macosx_11_0_arm64.whl (282 kB)\n",
      "\u001b[2K   \u001b[38;2;114;156;31m━━━━━━━━━━━━━━━━━━━━━━━━━━━━━━━━━━━━━━━━\u001b[0m \u001b[32m282.5/282.5 kB\u001b[0m \u001b[31m17.1 MB/s\u001b[0m eta \u001b[36m0:00:00\u001b[0m\n",
      "\u001b[?25hDownloading toolz-0.12.1-py3-none-any.whl (56 kB)\n",
      "\u001b[2K   \u001b[38;2;114;156;31m━━━━━━━━━━━━━━━━━━━━━━━━━━━━━━━━━━━━━━━━\u001b[0m \u001b[32m56.1/56.1 kB\u001b[0m \u001b[31m4.2 MB/s\u001b[0m eta \u001b[36m0:00:00\u001b[0m\n",
      "\u001b[?25hUsing cached attrs-23.2.0-py3-none-any.whl (60 kB)\n",
      "Downloading jsonschema_specifications-2023.12.1-py3-none-any.whl (18 kB)\n",
      "Using cached mdurl-0.1.2-py3-none-any.whl (10.0 kB)\n",
      "Downloading referencing-0.35.1-py3-none-any.whl (26 kB)\n",
      "Downloading rpds_py-0.19.1-cp39-cp39-macosx_11_0_arm64.whl (310 kB)\n",
      "\u001b[2K   \u001b[38;2;114;156;31m━━━━━━━━━━━━━━━━━━━━━━━━━━━━━━━━━━━━━━━━\u001b[0m \u001b[32m310.8/310.8 kB\u001b[0m \u001b[31m18.0 MB/s\u001b[0m eta \u001b[36m0:00:00\u001b[0m\n",
      "\u001b[?25hDownloading smmap-5.0.1-py3-none-any.whl (24 kB)\n",
      "Installing collected packages: pytz, namex, tzdata, toolz, toml, threadpoolctl, tenacity, smmap, scipy, rpds-py, pyparsing, pyarrow, pillow, optree, mdurl, kiwisolver, joblib, jinja2, importlib-resources, fonttools, cycler, contourpy, click, blinker, attrs, scikit-learn, referencing, pydeck, pandas, matplotlib, markdown-it-py, gitdb, rich, jsonschema-specifications, gitpython, keras, jsonschema, scikeras, altair, streamlit\n",
      "  Attempting uninstall: keras\n",
      "    Found existing installation: keras 2.15.0\n",
      "    Uninstalling keras-2.15.0:\n",
      "      Successfully uninstalled keras-2.15.0\n",
      "\u001b[31mERROR: pip's dependency resolver does not currently take into account all the packages that are installed. This behaviour is the source of the following dependency conflicts.\n",
      "tensorflow-macos 2.15.0 requires keras<2.16,>=2.15.0, but you have keras 3.4.1 which is incompatible.\u001b[0m\u001b[31m\n",
      "\u001b[0mSuccessfully installed altair-5.3.0 attrs-23.2.0 blinker-1.8.2 click-8.1.7 contourpy-1.2.1 cycler-0.12.1 fonttools-4.53.1 gitdb-4.0.11 gitpython-3.1.43 importlib-resources-6.4.0 jinja2-3.1.4 joblib-1.4.2 jsonschema-4.23.0 jsonschema-specifications-2023.12.1 keras-3.4.1 kiwisolver-1.4.5 markdown-it-py-3.0.0 matplotlib-3.9.1 mdurl-0.1.2 namex-0.0.8 optree-0.12.1 pandas-2.2.2 pillow-10.4.0 pyarrow-17.0.0 pydeck-0.9.1 pyparsing-3.1.2 pytz-2024.1 referencing-0.35.1 rich-13.7.1 rpds-py-0.19.1 scikeras-0.13.0 scikit-learn-1.5.1 scipy-1.13.1 smmap-5.0.1 streamlit-1.36.0 tenacity-8.5.0 threadpoolctl-3.5.0 toml-0.10.2 toolz-0.12.1 tzdata-2024.1\n"
     ]
    }
   ],
   "source": [
    "!pip install scikit-learn tensorboard matplotlib streamlit scikeras"
   ]
  },
  {
   "cell_type": "code",
   "execution_count": 5,
   "metadata": {},
   "outputs": [],
   "source": [
    "from tensorflow.keras.preprocessing.text import one_hot"
   ]
  },
  {
   "cell_type": "code",
   "execution_count": 2,
   "metadata": {},
   "outputs": [],
   "source": [
    "### sentences\n",
    "sent=[  'the glass of milk',\n",
    "     'the glass of juice',\n",
    "     'the cup of tea',\n",
    "    'I am a good boy',\n",
    "     'I am a good developer',\n",
    "     'understand the meaning of words',\n",
    "     'your videos are good',]"
   ]
  },
  {
   "cell_type": "code",
   "execution_count": 3,
   "metadata": {},
   "outputs": [
    {
     "data": {
      "text/plain": [
       "['the glass of milk',\n",
       " 'the glass of juice',\n",
       " 'the cup of tea',\n",
       " 'I am a good boy',\n",
       " 'I am a good developer',\n",
       " 'understand the meaning of words',\n",
       " 'your videos are good']"
      ]
     },
     "execution_count": 3,
     "metadata": {},
     "output_type": "execute_result"
    }
   ],
   "source": [
    "sent"
   ]
  },
  {
   "cell_type": "code",
   "execution_count": 5,
   "metadata": {},
   "outputs": [],
   "source": [
    "## Define the vocabulary size\n",
    "voc_size=10000"
   ]
  },
  {
   "cell_type": "code",
   "execution_count": 7,
   "metadata": {},
   "outputs": [
    {
     "data": {
      "text/plain": [
       "['the glass of milk',\n",
       " 'the glass of juice',\n",
       " 'the cup of tea',\n",
       " 'I am a good boy',\n",
       " 'I am a good developer',\n",
       " 'understand the meaning of words',\n",
       " 'your videos are good']"
      ]
     },
     "execution_count": 7,
     "metadata": {},
     "output_type": "execute_result"
    }
   ],
   "source": [
    "sent"
   ]
  },
  {
   "cell_type": "code",
   "execution_count": 6,
   "metadata": {},
   "outputs": [
    {
     "data": {
      "text/plain": [
       "[[6186, 6775, 637, 4895],\n",
       " [6186, 6775, 637, 5462],\n",
       " [6186, 7872, 637, 7943],\n",
       " [7793, 3440, 840, 9701, 4879],\n",
       " [7793, 3440, 840, 9701, 1294],\n",
       " [932, 6186, 733, 637, 1731],\n",
       " [2258, 439, 5397, 9701]]"
      ]
     },
     "execution_count": 6,
     "metadata": {},
     "output_type": "execute_result"
    }
   ],
   "source": [
    "### One Hot Representation\n",
    "one_hot_repr=[one_hot(words,voc_size)for words in sent]\n",
    "one_hot_repr"
   ]
  },
  {
   "cell_type": "code",
   "execution_count": 10,
   "metadata": {},
   "outputs": [],
   "source": [
    "## word Embedding Representation\n",
    "\n",
    "from tensorflow.keras.layers import Embedding\n",
    "#from tensorflow.keras.processing.sequence import pad_sequences\n",
    "from tensorflow.keras.utils import pad_sequences\n",
    "from tensorflow.keras.models import Sequential"
   ]
  },
  {
   "cell_type": "code",
   "execution_count": 11,
   "metadata": {},
   "outputs": [],
   "source": [
    "import numpy as np"
   ]
  },
  {
   "cell_type": "code",
   "execution_count": 14,
   "metadata": {},
   "outputs": [
    {
     "name": "stdout",
     "output_type": "stream",
     "text": [
      "[[   0    0    0    0 6186 6775  637 4895]\n",
      " [   0    0    0    0 6186 6775  637 5462]\n",
      " [   0    0    0    0 6186 7872  637 7943]\n",
      " [   0    0    0 7793 3440  840 9701 4879]\n",
      " [   0    0    0 7793 3440  840 9701 1294]\n",
      " [   0    0    0  932 6186  733  637 1731]\n",
      " [   0    0    0    0 2258  439 5397 9701]]\n"
     ]
    }
   ],
   "source": [
    "sent_length=8\n",
    "embedded_docs=pad_sequences(one_hot_repr,padding='pre',maxlen=sent_length)\n",
    "print(embedded_docs)"
   ]
  },
  {
   "cell_type": "code",
   "execution_count": 15,
   "metadata": {},
   "outputs": [],
   "source": [
    "## feature representation\n",
    "dim=10"
   ]
  },
  {
   "cell_type": "code",
   "execution_count": 16,
   "metadata": {},
   "outputs": [
    {
     "name": "stdout",
     "output_type": "stream",
     "text": [
      "WARNING:tensorflow:From e:\\UDemy Final\\Deep Learning NLP\\venv\\Lib\\site-packages\\keras\\src\\backend.py:873: The name tf.get_default_graph is deprecated. Please use tf.compat.v1.get_default_graph instead.\n",
      "\n",
      "WARNING:tensorflow:From e:\\UDemy Final\\Deep Learning NLP\\venv\\Lib\\site-packages\\keras\\src\\optimizers\\__init__.py:309: The name tf.train.Optimizer is deprecated. Please use tf.compat.v1.train.Optimizer instead.\n",
      "\n"
     ]
    }
   ],
   "source": [
    "model=Sequential()\n",
    "model.add(Embedding(voc_size,dim,input_length=sent_length))\n",
    "model.compile('adam','mse')"
   ]
  },
  {
   "cell_type": "code",
   "execution_count": 17,
   "metadata": {},
   "outputs": [
    {
     "name": "stdout",
     "output_type": "stream",
     "text": [
      "Model: \"sequential\"\n",
      "_________________________________________________________________\n",
      " Layer (type)                Output Shape              Param #   \n",
      "=================================================================\n",
      " embedding (Embedding)       (None, 8, 10)             100000    \n",
      "                                                                 \n",
      "=================================================================\n",
      "Total params: 100000 (390.62 KB)\n",
      "Trainable params: 100000 (390.62 KB)\n",
      "Non-trainable params: 0 (0.00 Byte)\n",
      "_________________________________________________________________\n"
     ]
    }
   ],
   "source": [
    "model.summary()"
   ]
  },
  {
   "cell_type": "code",
   "execution_count": 18,
   "metadata": {},
   "outputs": [
    {
     "name": "stdout",
     "output_type": "stream",
     "text": [
      "1/1 [==============================] - 0s 75ms/step\n"
     ]
    },
    {
     "data": {
      "text/plain": [
       "array([[[ 0.01453609,  0.03697893,  0.02267558,  0.01149287,\n",
       "         -0.03695335,  0.01416664,  0.03655917,  0.00734384,\n",
       "          0.03028754,  0.00339943],\n",
       "        [ 0.01453609,  0.03697893,  0.02267558,  0.01149287,\n",
       "         -0.03695335,  0.01416664,  0.03655917,  0.00734384,\n",
       "          0.03028754,  0.00339943],\n",
       "        [ 0.01453609,  0.03697893,  0.02267558,  0.01149287,\n",
       "         -0.03695335,  0.01416664,  0.03655917,  0.00734384,\n",
       "          0.03028754,  0.00339943],\n",
       "        [ 0.01453609,  0.03697893,  0.02267558,  0.01149287,\n",
       "         -0.03695335,  0.01416664,  0.03655917,  0.00734384,\n",
       "          0.03028754,  0.00339943],\n",
       "        [-0.03792738,  0.01958679, -0.04232483, -0.03475742,\n",
       "          0.02182527,  0.01143194, -0.03125288,  0.02584182,\n",
       "          0.0050171 ,  0.04725457],\n",
       "        [-0.02213118,  0.00730393,  0.02797868, -0.02386508,\n",
       "         -0.0024281 ,  0.04419583, -0.02011771, -0.00502002,\n",
       "         -0.03373672, -0.04126013],\n",
       "        [-0.02629154,  0.02487988, -0.02824695,  0.0302802 ,\n",
       "         -0.01835672, -0.00683415,  0.01606056, -0.04426531,\n",
       "         -0.03801771, -0.04581957],\n",
       "        [-0.01679759,  0.04462079,  0.02781102, -0.04639838,\n",
       "          0.0059711 ,  0.00940369, -0.01027383,  0.01697389,\n",
       "         -0.01460341,  0.02758609]],\n",
       "\n",
       "       [[ 0.01453609,  0.03697893,  0.02267558,  0.01149287,\n",
       "         -0.03695335,  0.01416664,  0.03655917,  0.00734384,\n",
       "          0.03028754,  0.00339943],\n",
       "        [ 0.01453609,  0.03697893,  0.02267558,  0.01149287,\n",
       "         -0.03695335,  0.01416664,  0.03655917,  0.00734384,\n",
       "          0.03028754,  0.00339943],\n",
       "        [ 0.01453609,  0.03697893,  0.02267558,  0.01149287,\n",
       "         -0.03695335,  0.01416664,  0.03655917,  0.00734384,\n",
       "          0.03028754,  0.00339943],\n",
       "        [ 0.01453609,  0.03697893,  0.02267558,  0.01149287,\n",
       "         -0.03695335,  0.01416664,  0.03655917,  0.00734384,\n",
       "          0.03028754,  0.00339943],\n",
       "        [-0.03792738,  0.01958679, -0.04232483, -0.03475742,\n",
       "          0.02182527,  0.01143194, -0.03125288,  0.02584182,\n",
       "          0.0050171 ,  0.04725457],\n",
       "        [-0.02213118,  0.00730393,  0.02797868, -0.02386508,\n",
       "         -0.0024281 ,  0.04419583, -0.02011771, -0.00502002,\n",
       "         -0.03373672, -0.04126013],\n",
       "        [-0.02629154,  0.02487988, -0.02824695,  0.0302802 ,\n",
       "         -0.01835672, -0.00683415,  0.01606056, -0.04426531,\n",
       "         -0.03801771, -0.04581957],\n",
       "        [-0.03124818, -0.03880652, -0.01770035, -0.02932168,\n",
       "         -0.03678656, -0.00726188,  0.00991387, -0.02378893,\n",
       "         -0.04152743, -0.01911035]],\n",
       "\n",
       "       [[ 0.01453609,  0.03697893,  0.02267558,  0.01149287,\n",
       "         -0.03695335,  0.01416664,  0.03655917,  0.00734384,\n",
       "          0.03028754,  0.00339943],\n",
       "        [ 0.01453609,  0.03697893,  0.02267558,  0.01149287,\n",
       "         -0.03695335,  0.01416664,  0.03655917,  0.00734384,\n",
       "          0.03028754,  0.00339943],\n",
       "        [ 0.01453609,  0.03697893,  0.02267558,  0.01149287,\n",
       "         -0.03695335,  0.01416664,  0.03655917,  0.00734384,\n",
       "          0.03028754,  0.00339943],\n",
       "        [ 0.01453609,  0.03697893,  0.02267558,  0.01149287,\n",
       "         -0.03695335,  0.01416664,  0.03655917,  0.00734384,\n",
       "          0.03028754,  0.00339943],\n",
       "        [-0.03792738,  0.01958679, -0.04232483, -0.03475742,\n",
       "          0.02182527,  0.01143194, -0.03125288,  0.02584182,\n",
       "          0.0050171 ,  0.04725457],\n",
       "        [ 0.04533714,  0.0136847 ,  0.00179105,  0.0053288 ,\n",
       "          0.00953666, -0.02339783,  0.03319111,  0.00355726,\n",
       "         -0.01003033,  0.00492544],\n",
       "        [-0.02629154,  0.02487988, -0.02824695,  0.0302802 ,\n",
       "         -0.01835672, -0.00683415,  0.01606056, -0.04426531,\n",
       "         -0.03801771, -0.04581957],\n",
       "        [-0.04085422,  0.01385713,  0.02222593,  0.01600582,\n",
       "         -0.01991202,  0.04343553,  0.02790178,  0.02829089,\n",
       "         -0.02677914, -0.03095159]],\n",
       "\n",
       "       [[ 0.01453609,  0.03697893,  0.02267558,  0.01149287,\n",
       "         -0.03695335,  0.01416664,  0.03655917,  0.00734384,\n",
       "          0.03028754,  0.00339943],\n",
       "        [ 0.01453609,  0.03697893,  0.02267558,  0.01149287,\n",
       "         -0.03695335,  0.01416664,  0.03655917,  0.00734384,\n",
       "          0.03028754,  0.00339943],\n",
       "        [ 0.01453609,  0.03697893,  0.02267558,  0.01149287,\n",
       "         -0.03695335,  0.01416664,  0.03655917,  0.00734384,\n",
       "          0.03028754,  0.00339943],\n",
       "        [-0.04146392,  0.02660108, -0.0229491 , -0.03268532,\n",
       "          0.01551236, -0.01654566, -0.02999841,  0.04290983,\n",
       "         -0.02746393, -0.02471615],\n",
       "        [ 0.03273502, -0.03499563,  0.0459383 ,  0.03638815,\n",
       "          0.00481785,  0.02037958,  0.03365681,  0.01753655,\n",
       "         -0.04793417,  0.01674087],\n",
       "        [ 0.00106196, -0.03413208, -0.01256472, -0.02738428,\n",
       "         -0.00181568, -0.01787011, -0.02263788,  0.00925191,\n",
       "         -0.04927097, -0.03621155],\n",
       "        [-0.04554073,  0.03984121, -0.0498728 ,  0.03917092,\n",
       "          0.02678657, -0.04840182, -0.0128305 ,  0.02327908,\n",
       "         -0.00574195,  0.04646111],\n",
       "        [ 0.03840839, -0.03947144, -0.02508885,  0.00115657,\n",
       "         -0.0023639 , -0.00433974,  0.02283755,  0.04989989,\n",
       "          0.02025146, -0.02291037]],\n",
       "\n",
       "       [[ 0.01453609,  0.03697893,  0.02267558,  0.01149287,\n",
       "         -0.03695335,  0.01416664,  0.03655917,  0.00734384,\n",
       "          0.03028754,  0.00339943],\n",
       "        [ 0.01453609,  0.03697893,  0.02267558,  0.01149287,\n",
       "         -0.03695335,  0.01416664,  0.03655917,  0.00734384,\n",
       "          0.03028754,  0.00339943],\n",
       "        [ 0.01453609,  0.03697893,  0.02267558,  0.01149287,\n",
       "         -0.03695335,  0.01416664,  0.03655917,  0.00734384,\n",
       "          0.03028754,  0.00339943],\n",
       "        [-0.04146392,  0.02660108, -0.0229491 , -0.03268532,\n",
       "          0.01551236, -0.01654566, -0.02999841,  0.04290983,\n",
       "         -0.02746393, -0.02471615],\n",
       "        [ 0.03273502, -0.03499563,  0.0459383 ,  0.03638815,\n",
       "          0.00481785,  0.02037958,  0.03365681,  0.01753655,\n",
       "         -0.04793417,  0.01674087],\n",
       "        [ 0.00106196, -0.03413208, -0.01256472, -0.02738428,\n",
       "         -0.00181568, -0.01787011, -0.02263788,  0.00925191,\n",
       "         -0.04927097, -0.03621155],\n",
       "        [-0.04554073,  0.03984121, -0.0498728 ,  0.03917092,\n",
       "          0.02678657, -0.04840182, -0.0128305 ,  0.02327908,\n",
       "         -0.00574195,  0.04646111],\n",
       "        [ 0.04581554,  0.02068042,  0.03083092,  0.02806666,\n",
       "          0.03930313,  0.0191656 ,  0.00675037,  0.02067182,\n",
       "         -0.02875751,  0.02777287]],\n",
       "\n",
       "       [[ 0.01453609,  0.03697893,  0.02267558,  0.01149287,\n",
       "         -0.03695335,  0.01416664,  0.03655917,  0.00734384,\n",
       "          0.03028754,  0.00339943],\n",
       "        [ 0.01453609,  0.03697893,  0.02267558,  0.01149287,\n",
       "         -0.03695335,  0.01416664,  0.03655917,  0.00734384,\n",
       "          0.03028754,  0.00339943],\n",
       "        [ 0.01453609,  0.03697893,  0.02267558,  0.01149287,\n",
       "         -0.03695335,  0.01416664,  0.03655917,  0.00734384,\n",
       "          0.03028754,  0.00339943],\n",
       "        [-0.00300983,  0.04962113, -0.03207076,  0.02294162,\n",
       "          0.01929196, -0.00352075,  0.03440711, -0.00102079,\n",
       "         -0.01592419,  0.02609858],\n",
       "        [-0.03792738,  0.01958679, -0.04232483, -0.03475742,\n",
       "          0.02182527,  0.01143194, -0.03125288,  0.02584182,\n",
       "          0.0050171 ,  0.04725457],\n",
       "        [-0.03927047, -0.03732276, -0.04106323, -0.02769849,\n",
       "          0.04336444, -0.02520424,  0.03605187, -0.0447484 ,\n",
       "         -0.03555883,  0.01143109],\n",
       "        [-0.02629154,  0.02487988, -0.02824695,  0.0302802 ,\n",
       "         -0.01835672, -0.00683415,  0.01606056, -0.04426531,\n",
       "         -0.03801771, -0.04581957],\n",
       "        [ 0.0132685 ,  0.04735686,  0.02811617,  0.02730611,\n",
       "         -0.04152063,  0.01411757,  0.04375606,  0.00623626,\n",
       "          0.04384177, -0.04956309]],\n",
       "\n",
       "       [[ 0.01453609,  0.03697893,  0.02267558,  0.01149287,\n",
       "         -0.03695335,  0.01416664,  0.03655917,  0.00734384,\n",
       "          0.03028754,  0.00339943],\n",
       "        [ 0.01453609,  0.03697893,  0.02267558,  0.01149287,\n",
       "         -0.03695335,  0.01416664,  0.03655917,  0.00734384,\n",
       "          0.03028754,  0.00339943],\n",
       "        [ 0.01453609,  0.03697893,  0.02267558,  0.01149287,\n",
       "         -0.03695335,  0.01416664,  0.03655917,  0.00734384,\n",
       "          0.03028754,  0.00339943],\n",
       "        [ 0.01453609,  0.03697893,  0.02267558,  0.01149287,\n",
       "         -0.03695335,  0.01416664,  0.03655917,  0.00734384,\n",
       "          0.03028754,  0.00339943],\n",
       "        [ 0.02526   ,  0.0156487 ,  0.03218974, -0.00032879,\n",
       "          0.04750899, -0.01754548,  0.0344664 , -0.0309399 ,\n",
       "         -0.00503526, -0.01345843],\n",
       "        [-0.03148643,  0.03196006, -0.03646732,  0.025697  ,\n",
       "         -0.008738  ,  0.02251724, -0.0173725 ,  0.00263242,\n",
       "          0.04673482,  0.03950423],\n",
       "        [ 0.03697998, -0.03435004, -0.03726987,  0.03946258,\n",
       "         -0.04656837,  0.03079089,  0.01652594, -0.04105929,\n",
       "          0.01163935, -0.00696211],\n",
       "        [-0.04554073,  0.03984121, -0.0498728 ,  0.03917092,\n",
       "          0.02678657, -0.04840182, -0.0128305 ,  0.02327908,\n",
       "         -0.00574195,  0.04646111]]], dtype=float32)"
      ]
     },
     "execution_count": 18,
     "metadata": {},
     "output_type": "execute_result"
    }
   ],
   "source": [
    "model.predict(embedded_docs)"
   ]
  },
  {
   "cell_type": "code",
   "execution_count": 19,
   "metadata": {},
   "outputs": [
    {
     "data": {
      "text/plain": [
       "array([   0,    0,    0,    0, 6186, 6775,  637, 4895])"
      ]
     },
     "execution_count": 19,
     "metadata": {},
     "output_type": "execute_result"
    }
   ],
   "source": [
    "embedded_docs[0]"
   ]
  },
  {
   "cell_type": "code",
   "execution_count": 22,
   "metadata": {},
   "outputs": [
    {
     "name": "stdout",
     "output_type": "stream",
     "text": [
      "1/1 [==============================] - 0s 19ms/step\n"
     ]
    },
    {
     "data": {
      "text/plain": [
       "array([[ 0.01453609,  0.03697893,  0.02267558,  0.01149287, -0.03695335,\n",
       "         0.01416664,  0.03655917,  0.00734384,  0.03028754,  0.00339943],\n",
       "       [ 0.01453609,  0.03697893,  0.02267558,  0.01149287, -0.03695335,\n",
       "         0.01416664,  0.03655917,  0.00734384,  0.03028754,  0.00339943],\n",
       "       [ 0.01453609,  0.03697893,  0.02267558,  0.01149287, -0.03695335,\n",
       "         0.01416664,  0.03655917,  0.00734384,  0.03028754,  0.00339943],\n",
       "       [ 0.01453609,  0.03697893,  0.02267558,  0.01149287, -0.03695335,\n",
       "         0.01416664,  0.03655917,  0.00734384,  0.03028754,  0.00339943],\n",
       "       [-0.03792738,  0.01958679, -0.04232483, -0.03475742,  0.02182527,\n",
       "         0.01143194, -0.03125288,  0.02584182,  0.0050171 ,  0.04725457],\n",
       "       [-0.02213118,  0.00730393,  0.02797868, -0.02386508, -0.0024281 ,\n",
       "         0.04419583, -0.02011771, -0.00502002, -0.03373672, -0.04126013],\n",
       "       [-0.02629154,  0.02487988, -0.02824695,  0.0302802 , -0.01835672,\n",
       "        -0.00683415,  0.01606056, -0.04426531, -0.03801771, -0.04581957],\n",
       "       [-0.01679759,  0.04462079,  0.02781102, -0.04639838,  0.0059711 ,\n",
       "         0.00940369, -0.01027383,  0.01697389, -0.01460341,  0.02758609]],\n",
       "      dtype=float32)"
      ]
     },
     "execution_count": 22,
     "metadata": {},
     "output_type": "execute_result"
    }
   ],
   "source": [
    "model.predict(embedded_docs[0])"
   ]
  },
  {
   "cell_type": "code",
   "execution_count": null,
   "metadata": {},
   "outputs": [],
   "source": []
  }
 ],
 "metadata": {
  "kernelspec": {
   "display_name": "Python 3",
   "language": "python",
   "name": "python3"
  },
  "language_info": {
   "codemirror_mode": {
    "name": "ipython",
    "version": 3
   },
   "file_extension": ".py",
   "mimetype": "text/x-python",
   "name": "python",
   "nbconvert_exporter": "python",
   "pygments_lexer": "ipython3",
   "version": "3.9.6"
  }
 },
 "nbformat": 4,
 "nbformat_minor": 2
}
